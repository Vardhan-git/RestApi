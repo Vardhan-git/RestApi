{
  "nbformat": 4,
  "nbformat_minor": 0,
  "metadata": {
    "colab": {
      "provenance": []
    },
    "kernelspec": {
      "name": "python3",
      "display_name": "Python 3"
    },
    "language_info": {
      "name": "python"
    }
  },
  "cells": [
    {
      "cell_type": "code",
      "execution_count": null,
      "metadata": {
        "id": "-YNtHhPXcfTT"
      },
      "outputs": [],
      "source": []
    },
    {
      "cell_type": "markdown",
      "source": [
        "1.What is a RESTful API?\n",
        "- A RESTful API is an API that follows the principles of REST. It uses HTTP methods like GET, POST, PUT, and DELETE to perform CRUD operations on resources represented by URLs.\n",
        "\n",
        "2.Explain the concept of API specification?\n",
        "- An API specification defines how clients can interact with the API. It describes endpoints, request or response formats, parameters, authentication, and error codes.\n",
        "\n",
        "3.What is Flask, and why is it popular for building APIs?\n",
        "- Flask is a lightweight Python web framework. It’s popular for APIs because it is simple, flexible, has a small learning curve, and supports extensions like Flask-RESTful.\n",
        "\n",
        "4.What is routing in Flask?\n",
        "- Routing maps URLs to functions. Flask uses @app.route() to define routes, so when a client visits a URL, the mapped function executes.\n",
        "\n",
        "5.How do you create a simple Flask application\n",
        "- We can create flask application using Flask library we need to import it and then Flask(__name__), we can use crud operation like get,put,post,delete\n",
        "\n",
        "6.What are HTTP methods used in RESTful APIs?\n",
        "- GET: Retrieve data\n",
        "- POST: Create resource\n",
        "- PUT: Update resource\n",
        "- PATCH: Partial update\n",
        "- DELETE: Remove resource\n",
        "\n",
        "7.What is the purpose of the @app.route() decorator in Flask?\n",
        "\n",
        "- It maps a URL to a Python function, turning it into a web endpoint.\n",
        "\n",
        "8.What is the difference between GET and POST HTTP methods?\n",
        "- GET requests fetch data and are visible in the URL and POST requests send data in the request body and are used to create resources.\n",
        "\n",
        "9.How do you handle errors in Flask APIs?\n",
        "\n",
        "- By using error handlers:\n",
        "@app.errorhandler(404)\n",
        "def not_found(e):\n",
        "    return {'error': 'Not Found'}, 404\n",
        "\n",
        "10.How do you connect Flask to a SQL database?\n",
        "- Using Flask-SQLAlchemy, we can connect flask to sql data base\n",
        "\n",
        "11.What is the role of Flask-SQLAlchemy?\n",
        "- It provides ORM to interact with databases using Python classes instead of raw SQL.\n",
        "\n",
        "12.What are Flask blueprints, and how are they useful?\n",
        "- Blueprints allow modular app structure by grouping routes and logic into components.\n",
        "\n",
        "13.What is the purpose of Flask's request object?\n",
        "- It holds HTTP request data like form input, JSON payloads, headers, and query parameters.\n",
        "\n",
        "14.How do you create a RESTful API endpoint using Flask?\n",
        "- Define route with methods:\n",
        "@app.route('/users', methods=['GET'])\n",
        "def get_users():\n",
        "    return jsonify(users)\n",
        "\n",
        "15.What is the purpose of Flask's jsonify() function?\n",
        "- It converts Python dictionaries/lists into JSON responses with proper headers.\n",
        "\n",
        "16.Explain Flask’s url_for() function?\n",
        "- Generates URLs dynamically for routes using function names instead of hardcoding paths.\n",
        "\n",
        "17.How does Flask handle static files (CSS, JavaScript, etc.)?\n",
        "- Static files are served from the static/ folder automatically via /static/<filename>.\n",
        "\n",
        "18.What is an API specification, and how does it help in building a Flask API?\n",
        "- It acts as a contract between client and server, ensuring consistency in development and documentation.\n",
        "\n",
        "19.What are HTTP status codes, and why are they important in a Flask API?\n",
        "- They indicate response status 200 OK, 404 Not Found, 500 Internal Server Error. They help clients handle results correctly.\n",
        "\n",
        "20.How do you handle POST requests in Flask?\n",
        "- Access data from request.form or request.json:\n",
        "@app.route('/submit', methods=['POST'])\n",
        "def submit():\n",
        "    data = request.json\n",
        "    return jsonify(data)\n",
        "\n",
        "21.How would you secure a Flask API?\n",
        "- By using authentication JWT, OAuth, HTTPS. input validation, rate limiting, and CORS policies.\n",
        "\n",
        "22.What is the significance of the Flask-RESTful extension?\n",
        "- It simplifies REST API development with resources, request parsing, and automatic response formatting.\n",
        "\n",
        "23.What is the role of Flasks session object?\n",
        "- It stores user-specific data like login state across requests using secure cookies."
      ],
      "metadata": {
        "id": "ijOBfGUPcwsk"
      }
    },
    {
      "cell_type": "code",
      "source": [
        "#How do you create a basic Flask application?\n",
        "from flask import Flask\n",
        "\n",
        "app = Flask(__name__)\n",
        "\n",
        "@app.route(\"/\")\n",
        "def home():\n",
        "    return \"Hello, Flask!\"\n",
        "\n",
        "if __name__ == \"__main__\":\n",
        "    app.run(debug=True)"
      ],
      "metadata": {
        "colab": {
          "base_uri": "https://localhost:8080/"
        },
        "id": "6NO5NMt7fTBb",
        "outputId": "8d9fd1f6-9e63-4233-b7fb-9e1711e6811c"
      },
      "execution_count": 1,
      "outputs": [
        {
          "output_type": "stream",
          "name": "stdout",
          "text": [
            " * Serving Flask app '__main__'\n",
            " * Debug mode: on\n"
          ]
        },
        {
          "output_type": "stream",
          "name": "stderr",
          "text": [
            "INFO:werkzeug:\u001b[31m\u001b[1mWARNING: This is a development server. Do not use it in a production deployment. Use a production WSGI server instead.\u001b[0m\n",
            " * Running on http://127.0.0.1:5000\n",
            "INFO:werkzeug:\u001b[33mPress CTRL+C to quit\u001b[0m\n",
            "INFO:werkzeug: * Restarting with watchdog (inotify)\n"
          ]
        }
      ]
    },
    {
      "cell_type": "code",
      "source": [
        "#How do you serve static files like images or CSS in Flask?\n",
        "from flask import Flask, send_from_directory\n",
        "\n",
        "app = Flask(__name__)\n",
        "\n",
        "@app.route('/static/<path:filename>')\n",
        "def serve_static(filename):\n",
        "    return send_from_directory('static', filename)"
      ],
      "metadata": {
        "id": "WrZuwkKFfTDh"
      },
      "execution_count": 3,
      "outputs": []
    },
    {
      "cell_type": "code",
      "source": [
        "#How do you define different routes with different HTTP methods in Flask?\n",
        "from flask import Flask, request\n",
        "app = Flask(__name__)\n",
        "\n",
        "@app.route(\"/login\", methods=[\"GET\", \"POST\"])\n",
        "def login():\n",
        "    if request.method == \"POST\":\n",
        "        # handle submitted form\n",
        "        return \"Logged in\"\n",
        "    return \"Show login form\""
      ],
      "metadata": {
        "id": "aBfk9gl2fTFy"
      },
      "execution_count": 5,
      "outputs": []
    },
    {
      "cell_type": "code",
      "source": [
        "#How do you render HTML templates in Flask?\n",
        "from flask import Flask, render_template\n",
        "\n",
        "app = Flask(__name__)\n",
        "\n",
        "@app.route(\"/\")\n",
        "def home():\n",
        "    return render_template(\"index.html\")"
      ],
      "metadata": {
        "id": "NPi6t0h6fTIF"
      },
      "execution_count": null,
      "outputs": []
    },
    {
      "cell_type": "code",
      "source": [
        "#How can you generate URLs for routes in Flask using url_for?\n",
        "from flask import Flask, url_for\n",
        "\n",
        "app = Flask(__name__)\n",
        "\n",
        "@app.route(\"/\")\n",
        "def home():\n",
        "    return \"Home Page\"\n",
        "\n",
        "@app.route(\"/about\")\n",
        "def about():\n",
        "    return \"About Page\""
      ],
      "metadata": {
        "id": "9U5avIQxfTKa"
      },
      "execution_count": 6,
      "outputs": []
    },
    {
      "cell_type": "code",
      "source": [
        "#How do you handle forms in Flask?\n",
        "from flask import Flask, render_template, request\n",
        "\n",
        "app = Flask(__name__)\n",
        "\n",
        "@app.route(\"/\")\n",
        "def home():\n",
        "    return render_template(\"form.html\")"
      ],
      "metadata": {
        "id": "SqkfplcHfTMt"
      },
      "execution_count": 7,
      "outputs": []
    },
    {
      "cell_type": "code",
      "source": [
        "#How can you validate form data in Flask?\n",
        "from flask import Flask, render_template, request\n",
        "\n",
        "app = Flask(__name__)\n",
        "\n",
        "@app.route(\"/\")\n",
        "def home():\n",
        "    return render_template(\"form.html\")\n"
      ],
      "metadata": {
        "colab": {
          "base_uri": "https://localhost:8080/",
          "height": 383
        },
        "id": "edwrInhsfTPD",
        "outputId": "0cbd0d54-2ce9-4b07-aba7-c7ec1b383845"
      },
      "execution_count": 8,
      "outputs": [
        {
          "output_type": "error",
          "ename": "ModuleNotFoundError",
          "evalue": "No module named 'flask_wtf'",
          "traceback": [
            "\u001b[0;31m---------------------------------------------------------------------------\u001b[0m",
            "\u001b[0;31mModuleNotFoundError\u001b[0m                       Traceback (most recent call last)",
            "\u001b[0;32m/tmp/ipython-input-3801389377.py\u001b[0m in \u001b[0;36m<cell line: 0>\u001b[0;34m()\u001b[0m\n\u001b[1;32m      1\u001b[0m \u001b[0;31m#How can you validate form data in Flask?\u001b[0m\u001b[0;34m\u001b[0m\u001b[0;34m\u001b[0m\u001b[0m\n\u001b[0;32m----> 2\u001b[0;31m \u001b[0;32mfrom\u001b[0m \u001b[0mflask_wtf\u001b[0m \u001b[0;32mimport\u001b[0m \u001b[0mFlaskForm\u001b[0m\u001b[0;34m\u001b[0m\u001b[0;34m\u001b[0m\u001b[0m\n\u001b[0m\u001b[1;32m      3\u001b[0m \u001b[0;32mfrom\u001b[0m \u001b[0mwtforms\u001b[0m \u001b[0;32mimport\u001b[0m \u001b[0mStringField\u001b[0m\u001b[0;34m\u001b[0m\u001b[0;34m\u001b[0m\u001b[0m\n\u001b[1;32m      4\u001b[0m \u001b[0;32mfrom\u001b[0m \u001b[0mwtforms\u001b[0m\u001b[0;34m.\u001b[0m\u001b[0mvalidators\u001b[0m \u001b[0;32mimport\u001b[0m \u001b[0mDataRequired\u001b[0m\u001b[0;34m\u001b[0m\u001b[0;34m\u001b[0m\u001b[0m\n\u001b[1;32m      5\u001b[0m \u001b[0;32mfrom\u001b[0m \u001b[0mflask\u001b[0m \u001b[0;32mimport\u001b[0m \u001b[0mFlask\u001b[0m\u001b[0;34m,\u001b[0m \u001b[0mrender_template\u001b[0m\u001b[0;34m\u001b[0m\u001b[0;34m\u001b[0m\u001b[0m\n",
            "\u001b[0;31mModuleNotFoundError\u001b[0m: No module named 'flask_wtf'",
            "",
            "\u001b[0;31m---------------------------------------------------------------------------\u001b[0;32m\nNOTE: If your import is failing due to a missing package, you can\nmanually install dependencies using either !pip or !apt.\n\nTo view examples of installing some common dependencies, click the\n\"Open Examples\" button below.\n\u001b[0;31m---------------------------------------------------------------------------\u001b[0m\n"
          ],
          "errorDetails": {
            "actions": [
              {
                "action": "open_url",
                "actionText": "Open Examples",
                "url": "/notebooks/snippets/importing_libraries.ipynb"
              }
            ]
          }
        }
      ]
    },
    {
      "cell_type": "code",
      "source": [
        "#How do you manage sessions in Flask?\n",
        "from flask import Flask, session\n",
        "app = Flask(__name__)\n",
        "app.config[\"SECRET_KEY\"] = \"change-me\"\n",
        "\n",
        "@app.route(\"/set\")\n",
        "def set_session():\n",
        "    session[\"user\"] = \"vardhan\"\n",
        "    return \"Session set\"\n",
        "\n",
        "@app.route(\"/get\")\n",
        "def get_session():\n",
        "    return session.get(\"user\", \"No session\")\n"
      ],
      "metadata": {
        "id": "1whJiaWVfTRR"
      },
      "execution_count": 9,
      "outputs": []
    },
    {
      "cell_type": "code",
      "source": [
        "#How do you redirect to a different route in Flask?\n",
        "from flask import Flask, redirect, url_for\n",
        "\n",
        "app = Flask(__name__)\n",
        "\n",
        "@app.route(\"/\")\n",
        "def home():\n",
        "    return \"Home Page\"\n",
        "\n",
        "@app.route(\"/redirect\")\n",
        "def redirect_to_home():\n",
        "    return redirect(url_for(\"home\"))"
      ],
      "metadata": {
        "id": "XJM197qEfTTn"
      },
      "execution_count": 10,
      "outputs": []
    },
    {
      "cell_type": "code",
      "source": [
        "#How do you handle errors in Flask (e.g., 404)?\n",
        "from flask import Flask, render_template, abort\n",
        "\n",
        "app = Flask(__name__)\n",
        "\n",
        "@app.route(\"/\")\n",
        "def home():\n",
        "    return \"Home Page\"\n",
        "\n",
        "@app.route(\"/error\")\n",
        "def error():\n",
        "    abort(404)"
      ],
      "metadata": {
        "id": "_k6emZV4fTVv"
      },
      "execution_count": 11,
      "outputs": []
    },
    {
      "cell_type": "code",
      "source": [
        "#How do you structure a Flask app using Blueprints?\n",
        "from flask import Blueprint\n",
        "\n",
        "blog_bp = Blueprint(\"blog\", __name__, url_prefix=\"/blog\")\n",
        "\n",
        "@blog_bp.route(\"/\")\n",
        "def index():\n",
        "    return \"Blog home\"\n",
        "app = Flask(__name__)\n",
        "app.register_blueprint(blog_bp)\n"
      ],
      "metadata": {
        "id": "fXTW0AyVfTZP"
      },
      "execution_count": 13,
      "outputs": []
    },
    {
      "cell_type": "code",
      "source": [
        "#How do you define a custom Jinja filter in Flask?\n",
        "from flask import Flask\n",
        "\n",
        "app = Flask(__name__)\n",
        "\n",
        "@app.template_filter(\"custom_filter\")\n",
        "def custom_filter(value):\n",
        "    return value.upper()"
      ],
      "metadata": {
        "id": "8-mBrwdEi2KR"
      },
      "execution_count": 14,
      "outputs": []
    },
    {
      "cell_type": "code",
      "source": [
        "#How can you redirect with query parameters in Flask?\n",
        "from flask import Flask, redirect, url_for\n",
        "\n",
        "app = Flask(__name__)\n",
        "\n",
        "@app.route(\"/\")\n",
        "def home():\n",
        "    return \"Home Page\""
      ],
      "metadata": {
        "id": "pIu2rxkMi2Nr"
      },
      "execution_count": 15,
      "outputs": []
    },
    {
      "cell_type": "code",
      "source": [
        "#How do you return JSON responses in Flask?\n",
        "from flask import Flask, jsonify\n",
        "\n",
        "app = Flask(__name__)\n",
        "\n",
        "@app.route(\"/json\")\n",
        "def json_response():\n",
        "    data = {\"message\": \"Hello, JSON!\"}\n",
        "    return jsonify(data)"
      ],
      "metadata": {
        "id": "3T709TjXi2Vd"
      },
      "execution_count": 16,
      "outputs": []
    },
    {
      "cell_type": "code",
      "source": [
        "#How do you capture URL parameters in Flask?\n",
        "from flask import Flask, request\n",
        "\n",
        "app = Flask(__name__)\n",
        "\n",
        "@app.route('/user/<username>')\n",
        "def show_user_profile(username):\n",
        "    # show the user profile for that user\n",
        "    return f'User {username}'"
      ],
      "metadata": {
        "id": "fQOBe8cRjQpu"
      },
      "execution_count": 17,
      "outputs": []
    },
    {
      "cell_type": "code",
      "source": [],
      "metadata": {
        "id": "BzvaOck6jQ3z"
      },
      "execution_count": null,
      "outputs": []
    }
  ]
}